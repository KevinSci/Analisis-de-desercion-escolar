{
 "cells": [
  {
   "cell_type": "code",
   "execution_count": 449,
   "metadata": {},
   "outputs": [],
   "source": [
    "# Importamos las librerias necesarias\n",
    "import numpy as np\n",
    "import pandas as pd\n",
    "import matplotlib.pyplot as plt\n",
    "%matplotlib inline\n",
    "\n",
    "# Cargamos los datos de los registros en formato csv y los ordenamos por id\n",
    "df = pd.read_csv('perfil_desercion.csv')\n"
   ]
  },
  {
   "cell_type": "markdown",
   "metadata": {},
   "source": [
    "Pagar matricula"
   ]
  },
  {
   "cell_type": "code",
   "execution_count": 450,
   "metadata": {},
   "outputs": [
    {
     "name": "stdout",
     "output_type": "stream",
     "text": [
      "     dif_pagar_matricula\n",
      "301                   no\n",
      "302                   no\n",
      "303                   si\n",
      "304                   no\n",
      "305                   no\n",
      "...                  ...\n",
      "1496                  no\n",
      "1497                  no\n",
      "1498                  no\n",
      "1499                  no\n",
      "1500                  no\n",
      "\n",
      "[1200 rows x 1 columns]\n"
     ]
    }
   ],
   "source": [
    "columns_to_replace = ['dif_pagar_matricula']  # columnas específicas\n",
    "start_row = 301\n",
    "end_row = 1500\n",
    "# Valores aleatorios para reemplazar\n",
    "random_values = ['no']\n",
    "\n",
    "probability_of_replacement = 0.70  # Probabilidad de que un valor sea reemplazado (por ejemplo, 50%)\n",
    "\n",
    "# Función para reemplazar valores con una probabilidad específica\n",
    "for col in columns_to_replace:\n",
    "    for i in range(start_row, end_row + 1):\n",
    "        if np.random.rand() < probability_of_replacement:  # Genera un número aleatorio entre 0 y 1\n",
    "            df.at[i, col] = np.random.choice(random_values)  # Reemplaza el valor con uno al azar\n",
    "\n",
    "# Verificar el resultado\n",
    "print(df.loc[start_row:end_row, columns_to_replace])\n"
   ]
  },
  {
   "cell_type": "markdown",
   "metadata": {},
   "source": [
    "Reprobo materias ultimamente "
   ]
  },
  {
   "cell_type": "code",
   "execution_count": 451,
   "metadata": {},
   "outputs": [
    {
     "name": "stdout",
     "output_type": "stream",
     "text": [
      "     rep_materias_ult\n",
      "301                no\n",
      "302                no\n",
      "303                no\n",
      "304                no\n",
      "305                no\n",
      "...               ...\n",
      "1496               no\n",
      "1497               no\n",
      "1498               no\n",
      "1499               no\n",
      "1500              NaN\n",
      "\n",
      "[1200 rows x 1 columns]\n"
     ]
    }
   ],
   "source": [
    "columns_to_replace = ['rep_materias_ult']  # columnas específicas\n",
    "start_row = 301\n",
    "end_row = 1500\n",
    "# Valores aleatorios para reemplazar\n",
    "random_values = ['no']\n",
    "\n",
    "probability_of_replacement = 0.70  # Probabilidad de que un valor sea reemplazado (por ejemplo, 50%)\n",
    "\n",
    "# Función para reemplazar valores con una probabilidad específica\n",
    "for col in columns_to_replace:\n",
    "    for i in range(start_row, end_row + 1):\n",
    "        if np.random.rand() < probability_of_replacement:  # Genera un número aleatorio entre 0 y 1\n",
    "            df.at[i, col] = np.random.choice(random_values)  # Reemplaza el valor con uno al azar\n",
    "\n",
    "# Verificar el resultado\n",
    "print(df.loc[start_row:end_row, columns_to_replace])\n"
   ]
  },
  {
   "cell_type": "markdown",
   "metadata": {},
   "source": [
    "Considera que tiene trabajo excesivo"
   ]
  },
  {
   "cell_type": "code",
   "execution_count": 452,
   "metadata": {},
   "outputs": [
    {
     "name": "stdout",
     "output_type": "stream",
     "text": [
      "     trabajo_excesv\n",
      "301              si\n",
      "302              no\n",
      "303              no\n",
      "304              no\n",
      "305              no\n",
      "...             ...\n",
      "1496             no\n",
      "1497             si\n",
      "1498             no\n",
      "1499             no\n",
      "1500             no\n",
      "\n",
      "[1200 rows x 1 columns]\n"
     ]
    }
   ],
   "source": [
    "columns_to_replace = ['trabajo_excesv']  # columnas específicas\n",
    "start_row = 301\n",
    "end_row = 1500\n",
    "# Valores aleatorios para reemplazar\n",
    "random_values = ['no']\n",
    "\n",
    "probability_of_replacement = 0.50  # Probabilidad de que un valor sea reemplazado (por ejemplo, 50%)\n",
    "\n",
    "# Función para reemplazar valores con una probabilidad específica\n",
    "for col in columns_to_replace:\n",
    "    for i in range(start_row, end_row + 1):\n",
    "        if np.random.rand() < probability_of_replacement:  # Genera un número aleatorio entre 0 y 1\n",
    "            df.at[i, col] = np.random.choice(random_values)  # Reemplaza el valor con uno al azar\n",
    "\n",
    "# Verificar el resultado\n",
    "print(df.loc[start_row:end_row, columns_to_replace])"
   ]
  },
  {
   "cell_type": "markdown",
   "metadata": {},
   "source": [
    "Le gusta su carrera"
   ]
  },
  {
   "cell_type": "code",
   "execution_count": 453,
   "metadata": {},
   "outputs": [
    {
     "name": "stdout",
     "output_type": "stream",
     "text": [
      "     gusto_carrera\n",
      "301             si\n",
      "302             si\n",
      "303             si\n",
      "304             si\n",
      "305             si\n",
      "...            ...\n",
      "1496            si\n",
      "1497            no\n",
      "1498            si\n",
      "1499            si\n",
      "1500           NaN\n",
      "\n",
      "[1200 rows x 1 columns]\n"
     ]
    }
   ],
   "source": [
    "columns_to_replace = ['gusto_carrera']  # columnas específicas\n",
    "start_row = 301\n",
    "end_row = 1500\n",
    "# Valores aleatorios para reemplazar\n",
    "random_values = ['si']\n",
    "\n",
    "probability_of_replacement = 0.70  # Probabilidad de que un valor sea reemplazado (por ejemplo, 50%)\n",
    "\n",
    "# Función para reemplazar valores con una probabilidad específica\n",
    "for col in columns_to_replace:\n",
    "    for i in range(start_row, end_row + 1):\n",
    "        if np.random.rand() < probability_of_replacement:  # Genera un número aleatorio entre 0 y 1\n",
    "            df.at[i, col] = np.random.choice(random_values)  # Reemplaza el valor con uno al azar\n",
    "\n",
    "# Verificar el resultado\n",
    "print(df.loc[start_row:end_row, columns_to_replace])"
   ]
  },
  {
   "cell_type": "markdown",
   "metadata": {},
   "source": [
    "Problemas mentales o fisico"
   ]
  },
  {
   "cell_type": "code",
   "execution_count": 454,
   "metadata": {},
   "outputs": [
    {
     "name": "stdout",
     "output_type": "stream",
     "text": [
      "     problemas_ment_fisc\n",
      "301                   no\n",
      "302                   si\n",
      "303                   no\n",
      "304                   no\n",
      "305                   no\n",
      "...                  ...\n",
      "1496                  no\n",
      "1497                  no\n",
      "1498                  no\n",
      "1499                  no\n",
      "1500                 NaN\n",
      "\n",
      "[1200 rows x 1 columns]\n"
     ]
    }
   ],
   "source": [
    "columns_to_replace = ['problemas_ment_fisc']  # columnas específicas\n",
    "start_row = 301\n",
    "end_row = 1500\n",
    "# Valores aleatorios para reemplazar\n",
    "random_values = ['no']\n",
    "\n",
    "probability_of_replacement = 0.70  # Probabilidad de que un valor sea reemplazado (por ejemplo, 50%)\n",
    "\n",
    "# Función para reemplazar valores con una probabilidad específica\n",
    "for col in columns_to_replace:\n",
    "    for i in range(start_row, end_row + 1):\n",
    "        if np.random.rand() < probability_of_replacement:  # Genera un número aleatorio entre 0 y 1\n",
    "            df.at[i, col] = np.random.choice(random_values)  # Reemplaza el valor con uno al azar\n",
    "\n",
    "# Verificar el resultado\n",
    "print(df.loc[start_row:end_row, columns_to_replace])"
   ]
  },
  {
   "cell_type": "markdown",
   "metadata": {},
   "source": [
    "Dificultades en la vida personal"
   ]
  },
  {
   "cell_type": "code",
   "execution_count": 455,
   "metadata": {},
   "outputs": [
    {
     "name": "stdout",
     "output_type": "stream",
     "text": [
      "     dificult_vida_person\n",
      "301                    no\n",
      "302                    no\n",
      "303                    no\n",
      "304                    no\n",
      "305                    no\n",
      "...                   ...\n",
      "1496                   no\n",
      "1497                   si\n",
      "1498                   no\n",
      "1499                   no\n",
      "1500                  NaN\n",
      "\n",
      "[1200 rows x 1 columns]\n"
     ]
    }
   ],
   "source": [
    "columns_to_replace = ['dificult_vida_person']  # columnas específicas\n",
    "start_row = 301\n",
    "end_row = 1500\n",
    "# Valores aleatorios para reemplazar\n",
    "random_values = ['no']\n",
    "\n",
    "probability_of_replacement = 0.70  # Probabilidad de que un valor sea reemplazado (por ejemplo, 50%)\n",
    "\n",
    "# Función para reemplazar valores con una probabilidad específica\n",
    "for col in columns_to_replace:\n",
    "    for i in range(start_row, end_row + 1):\n",
    "        if np.random.rand() < probability_of_replacement:  # Genera un número aleatorio entre 0 y 1\n",
    "            df.at[i, col] = np.random.choice(random_values)  # Reemplaza el valor con uno al azar\n",
    "\n",
    "# Verificar el resultado\n",
    "print(df.loc[start_row:end_row, columns_to_replace])"
   ]
  },
  {
   "cell_type": "markdown",
   "metadata": {},
   "source": [
    "Trabaja"
   ]
  },
  {
   "cell_type": "code",
   "execution_count": 456,
   "metadata": {},
   "outputs": [
    {
     "name": "stdout",
     "output_type": "stream",
     "text": [
      "     trabaja\n",
      "301       no\n",
      "302       si\n",
      "303       no\n",
      "304       no\n",
      "305       no\n",
      "...      ...\n",
      "1496      si\n",
      "1497      no\n",
      "1498      no\n",
      "1499      no\n",
      "1500      no\n",
      "\n",
      "[1200 rows x 1 columns]\n"
     ]
    }
   ],
   "source": [
    "columns_to_replace = ['trabaja']  # columnas específicas\n",
    "start_row = 301\n",
    "end_row = 1500\n",
    "# Valores aleatorios para reemplazar\n",
    "random_values = ['no']\n",
    "\n",
    "probability_of_replacement = 0.70  # Probabilidad de que un valor sea reemplazado (por ejemplo, 50%)\n",
    "\n",
    "# Función para reemplazar valores con una probabilidad específica\n",
    "for col in columns_to_replace:\n",
    "    for i in range(start_row, end_row + 1):\n",
    "        if np.random.rand() < probability_of_replacement:  # Genera un número aleatorio entre 0 y 1\n",
    "            df.at[i, col] = np.random.choice(random_values)  # Reemplaza el valor con uno al azar\n",
    "\n",
    "# Verificar el resultado\n",
    "print(df.loc[start_row:end_row, columns_to_replace])"
   ]
  },
  {
   "cell_type": "code",
   "execution_count": 457,
   "metadata": {},
   "outputs": [
    {
     "name": "stdout",
     "output_type": "stream",
     "text": [
      "     resp_fam\n",
      "301        si\n",
      "302        no\n",
      "303        si\n",
      "304        no\n",
      "305        no\n",
      "...       ...\n",
      "1496       si\n",
      "1497       no\n",
      "1498       no\n",
      "1499       si\n",
      "1500       no\n",
      "\n",
      "[1200 rows x 1 columns]\n"
     ]
    }
   ],
   "source": [
    "columns_to_replace = ['resp_fam']  # columnas específicas\n",
    "start_row = 301\n",
    "end_row = 1500\n",
    "# Valores aleatorios para reemplazar\n",
    "random_values = ['no']\n",
    "\n",
    "probability_of_replacement = 0.60  # Probabilidad de que un valor sea reemplazado (por ejemplo, 50%)\n",
    "\n",
    "# Función para reemplazar valores con una probabilidad específica\n",
    "for col in columns_to_replace:\n",
    "    for i in range(start_row, end_row + 1):\n",
    "        if np.random.rand() < probability_of_replacement:  # Genera un número aleatorio entre 0 y 1\n",
    "            df.at[i, col] = np.random.choice(random_values)  # Reemplaza el valor con uno al azar\n",
    "\n",
    "# Verificar el resultado\n",
    "print(df.loc[start_row:end_row, columns_to_replace])"
   ]
  },
  {
   "cell_type": "markdown",
   "metadata": {},
   "source": [
    "Unid primera opcion"
   ]
  },
  {
   "cell_type": "code",
   "execution_count": 458,
   "metadata": {},
   "outputs": [
    {
     "name": "stdout",
     "output_type": "stream",
     "text": [
      "     unid_primera_opc\n",
      "301                si\n",
      "302                si\n",
      "303                si\n",
      "304                si\n",
      "305                si\n",
      "...               ...\n",
      "1496               si\n",
      "1497               si\n",
      "1498               no\n",
      "1499               si\n",
      "1500               si\n",
      "\n",
      "[1200 rows x 1 columns]\n"
     ]
    }
   ],
   "source": [
    "columns_to_replace = ['unid_primera_opc']  # columnas específicas\n",
    "start_row = 301\n",
    "end_row = 1500\n",
    "# Valores aleatorios para reemplazar\n",
    "random_values = ['si']\n",
    "\n",
    "probability_of_replacement = 0.60  # Probabilidad de que un valor sea reemplazado (por ejemplo, 50%)\n",
    "\n",
    "# Función para reemplazar valores con una probabilidad específica\n",
    "for col in columns_to_replace:\n",
    "    for i in range(start_row, end_row + 1):\n",
    "        if np.random.rand() < probability_of_replacement:  # Genera un número aleatorio entre 0 y 1\n",
    "            df.at[i, col] = np.random.choice(random_values)  # Reemplaza el valor con uno al azar\n",
    "\n",
    "# Verificar el resultado\n",
    "print(df.loc[start_row:end_row, columns_to_replace])"
   ]
  },
  {
   "cell_type": "markdown",
   "metadata": {},
   "source": [
    "Satisfaccion de calidad educactiva"
   ]
  },
  {
   "cell_type": "code",
   "execution_count": 459,
   "metadata": {},
   "outputs": [
    {
     "name": "stdout",
     "output_type": "stream",
     "text": [
      "     satisf_cal_edu\n",
      "301              no\n",
      "302              si\n",
      "303              si\n",
      "304            insf\n",
      "305              si\n",
      "...             ...\n",
      "1496             si\n",
      "1497             si\n",
      "1498             si\n",
      "1499             si\n",
      "1500            NaN\n",
      "\n",
      "[1200 rows x 1 columns]\n"
     ]
    }
   ],
   "source": [
    "columns_to_replace = ['satisf_cal_edu']  # columnas específicas\n",
    "start_row = 301\n",
    "end_row = 1500\n",
    "# Valores aleatorios para reemplazar\n",
    "random_values = ['si']\n",
    "\n",
    "probability_of_replacement = 0.30  # Probabilidad de que un valor sea reemplazado (por ejemplo, 50%)\n",
    "\n",
    "# Función para reemplazar valores con una probabilidad específica\n",
    "for col in columns_to_replace:\n",
    "    for i in range(start_row, end_row + 1):\n",
    "        if np.random.rand() < probability_of_replacement:  # Genera un número aleatorio entre 0 y 1\n",
    "            df.at[i, col] = np.random.choice(random_values)  # Reemplaza el valor con uno al azar\n",
    "\n",
    "# Verificar el resultado\n",
    "print(df.loc[start_row:end_row, columns_to_replace])"
   ]
  },
  {
   "cell_type": "markdown",
   "metadata": {},
   "source": [
    "Percepcion de recursos suficientes"
   ]
  },
  {
   "cell_type": "code",
   "execution_count": 460,
   "metadata": {},
   "outputs": [
    {
     "name": "stdout",
     "output_type": "stream",
     "text": [
      "     percep_rec_suf\n",
      "301              si\n",
      "302              si\n",
      "303              si\n",
      "304              si\n",
      "305              si\n",
      "...             ...\n",
      "1496             si\n",
      "1497             si\n",
      "1498           insf\n",
      "1499           insf\n",
      "1500             si\n",
      "\n",
      "[1200 rows x 1 columns]\n"
     ]
    }
   ],
   "source": [
    "columns_to_replace = ['percep_rec_suf']  # columnas específicas\n",
    "start_row = 301\n",
    "end_row = 1500\n",
    "# Valores aleatorios para reemplazar\n",
    "random_values = ['si']\n",
    "\n",
    "probability_of_replacement = 0.30  # Probabilidad de que un valor sea reemplazado (por ejemplo, 50%)\n",
    "\n",
    "# Función para reemplazar valores con una probabilidad específica\n",
    "for col in columns_to_replace:\n",
    "    for i in range(start_row, end_row + 1):\n",
    "        if np.random.rand() < probability_of_replacement:  # Genera un número aleatorio entre 0 y 1\n",
    "            df.at[i, col] = np.random.choice(random_values)  # Reemplaza el valor con uno al azar\n",
    "# Verificar el resultado\n",
    "print(df.loc[start_row:end_row, columns_to_replace])"
   ]
  },
  {
   "cell_type": "markdown",
   "metadata": {},
   "source": [
    "Se siente integrado"
   ]
  },
  {
   "cell_type": "code",
   "execution_count": 461,
   "metadata": {},
   "outputs": [
    {
     "name": "stdout",
     "output_type": "stream",
     "text": [
      "     percep_int_acad\n",
      "301               si\n",
      "302               no\n",
      "303               no\n",
      "304               si\n",
      "305               si\n",
      "...              ...\n",
      "1496            insf\n",
      "1497              si\n",
      "1498              si\n",
      "1499              si\n",
      "1500             NaN\n",
      "\n",
      "[1200 rows x 1 columns]\n"
     ]
    }
   ],
   "source": [
    "columns_to_replace = ['percep_int_acad']  # columnas específicas\n",
    "start_row = 301\n",
    "end_row = 1500\n",
    "# Valores aleatorios para reemplazar\n",
    "random_values = ['si']\n",
    "\n",
    "probability_of_replacement = 0.30  # Probabilidad de que un valor sea reemplazado (por ejemplo, 50%)\n",
    "\n",
    "# Función para reemplazar valores con una probabilidad específica\n",
    "for col in columns_to_replace:\n",
    "    for i in range(start_row, end_row + 1):\n",
    "        if np.random.rand() < probability_of_replacement:  # Genera un número aleatorio entre 0 y 1\n",
    "            df.at[i, col] = np.random.choice(random_values)  # Reemplaza el valor con uno al azar\n",
    "# Verificar el resultado\n",
    "print(df.loc[start_row:end_row, columns_to_replace])"
   ]
  },
  {
   "cell_type": "markdown",
   "metadata": {},
   "source": [
    "Penso dejar unid"
   ]
  },
  {
   "cell_type": "code",
   "execution_count": 462,
   "metadata": {},
   "outputs": [
    {
     "name": "stdout",
     "output_type": "stream",
     "text": [
      "     penso_dejar_unid\n",
      "301                no\n",
      "302                si\n",
      "303                si\n",
      "304                si\n",
      "305                si\n",
      "...               ...\n",
      "1496               no\n",
      "1497               no\n",
      "1498               no\n",
      "1499               no\n",
      "1500              NaN\n",
      "\n",
      "[1200 rows x 1 columns]\n"
     ]
    }
   ],
   "source": [
    "columns_to_replace = ['penso_dejar_unid']  # columnas específicas\n",
    "start_row = 301\n",
    "end_row = 1500\n",
    "# Valores aleatorios para reemplazar\n",
    "random_values = ['no']\n",
    "\n",
    "probability_of_replacement = 0.30  # Probabilidad de que un valor sea reemplazado (por ejemplo, 50%)\n",
    "\n",
    "# Función para reemplazar valores con una probabilidad específica\n",
    "for col in columns_to_replace:\n",
    "    for i in range(start_row, end_row + 1):\n",
    "        if np.random.rand() < probability_of_replacement:  # Genera un número aleatorio entre 0 y 1\n",
    "            df.at[i, col] = np.random.choice(random_values)  # Reemplaza el valor con uno al azar\n",
    "# Verificar el resultado\n",
    "print(df.loc[start_row:end_row, columns_to_replace])"
   ]
  },
  {
   "cell_type": "markdown",
   "metadata": {},
   "source": [
    "Insertar alumnos que desertaron"
   ]
  },
  {
   "cell_type": "code",
   "execution_count": 463,
   "metadata": {},
   "outputs": [],
   "source": [
    "df['deserto'] = 'no'"
   ]
  },
  {
   "cell_type": "code",
   "execution_count": 464,
   "metadata": {},
   "outputs": [
    {
     "name": "stdout",
     "output_type": "stream",
     "text": [
      "    deserto\n",
      "1        si\n",
      "2        si\n",
      "3        si\n",
      "4        no\n",
      "5        si\n",
      "..      ...\n",
      "296      si\n",
      "297      no\n",
      "298      si\n",
      "299      si\n",
      "300      si\n",
      "\n",
      "[300 rows x 1 columns]\n"
     ]
    }
   ],
   "source": [
    "# Insertar alumnos que si desertaron 1 - 300\n",
    "columns_to_replace = ['deserto']  # columnas específicas\n",
    "start_row = 1\n",
    "end_row = 300\n",
    "# Valores aleatorios para reemplazar\n",
    "random_values = ['si']\n",
    "\n",
    "probability_of_replacement = 0.90  # Probabilidad de que un valor sea reemplazado (\n",
    "\n",
    "# Función para reemplazar valores con una probabilidad específica\n",
    "for col in columns_to_replace:\n",
    "    for i in range(start_row, end_row + 1):\n",
    "        if np.random.rand() < probability_of_replacement:  # Genera un número aleatorio entre 0 y 1\n",
    "            df.at[i, col] = np.random.choice(random_values)  # Reemplaza el valor con uno al azar\n",
    "# Verificar el resultado\n",
    "print(df.loc[start_row:end_row, columns_to_replace])\n",
    "\n"
   ]
  },
  {
   "cell_type": "code",
   "execution_count": 465,
   "metadata": {},
   "outputs": [
    {
     "name": "stdout",
     "output_type": "stream",
     "text": [
      "    deserto\n",
      "301      no\n",
      "302      no\n",
      "303      no\n",
      "304      no\n",
      "305      no\n",
      "..      ...\n",
      "746      si\n",
      "747      no\n",
      "748      no\n",
      "749      no\n",
      "750      no\n",
      "\n",
      "[450 rows x 1 columns]\n"
     ]
    }
   ],
   "source": [
    "# Insertar alumnos que si desertaron 301 - 750\n",
    "columns_to_replace = ['deserto']  # columnas específicas\n",
    "start_row = 301\n",
    "end_row = 750\n",
    "# Valores aleatorios para reemplazar\n",
    "random_values = ['si']\n",
    "\n",
    "probability_of_replacement = 0.05  # Probabilidad de que un valor sea reemplazado (\n",
    "\n",
    "# Función para reemplazar valores con una probabilidad específica\n",
    "for col in columns_to_replace:\n",
    "    for i in range(start_row, end_row + 1):\n",
    "        if np.random.rand() < probability_of_replacement:  # Genera un número aleatorio entre 0 y 1\n",
    "            df.at[i, col] = np.random.choice(random_values)  # Reemplaza el valor con uno al azar\n",
    "# Verificar el resultado\n",
    "print(df.loc[start_row:end_row, columns_to_replace])"
   ]
  },
  {
   "cell_type": "code",
   "execution_count": 466,
   "metadata": {},
   "outputs": [
    {
     "name": "stdout",
     "output_type": "stream",
     "text": [
      "     deserto\n",
      "751       no\n",
      "752       no\n",
      "753       no\n",
      "754       no\n",
      "755       no\n",
      "...      ...\n",
      "1496      no\n",
      "1497      no\n",
      "1498      no\n",
      "1499      si\n",
      "1500      no\n",
      "\n",
      "[750 rows x 1 columns]\n"
     ]
    }
   ],
   "source": [
    "# Insertar alumnos que si desertaron 751 - 300\n",
    "columns_to_replace = ['deserto']  # columnas específicas\n",
    "start_row = 751\n",
    "end_row = 1500\n",
    "# Valores aleatorios para reemplazar\n",
    "random_values = ['si']\n",
    "\n",
    "probability_of_replacement = 0.03  # Probabilidad de que un valor sea reemplazado (\n",
    "\n",
    "# Función para reemplazar valores con una probabilidad específica\n",
    "for col in columns_to_replace:\n",
    "    for i in range(start_row, end_row + 1):\n",
    "        if np.random.rand() < probability_of_replacement:  # Genera un número aleatorio entre 0 y 1\n",
    "            df.at[i, col] = np.random.choice(random_values)  # Reemplaza el valor con uno al azar\n",
    "# Verificar el resultado\n",
    "print(df.loc[start_row:end_row, columns_to_replace])"
   ]
  },
  {
   "cell_type": "code",
   "execution_count": 467,
   "metadata": {},
   "outputs": [
    {
     "data": {
      "text/plain": [
       "\"def graficos_eda_categoricos(cat):\\n    \\n    # Calculamos el numero de filas que necesitamos\\n    from math import ceil\\n    filas = ceil(cat.shape[1]/2)\\n\\n    # Definimos el grafico\\n    f, ax = plt.subplots(nrows = filas, ncols = 2, figsize = (16, filas * 6))\\n\\n    # Ajustamos la separación entre las columnas\\n    plt.subplots_adjust(wspace=0.5)  # wspace controla el espaciado horizontal entre subplots\\n\\n    # Aplanamos para iterar por el grafico como si fuera de 1 dimension en lugar de 2\\n    ax = ax.flat\\n\\n    # Creamos el buvle que va añadiendo graficos\\n    for cada, variable in enumerate(cat):\\n        cat[variable].value_counts().plot.barh(ax = ax[cada])\\n        ax[cada].set_title(variable, fontsize = 12, fontweight = 'bold')\\n        ax[cada].tick_params(labelsize = 12)\\n\\ngraficos_eda_categoricos(df.select_dtypes('O'))\""
      ]
     },
     "execution_count": 467,
     "metadata": {},
     "output_type": "execute_result"
    }
   ],
   "source": [
    "'''def graficos_eda_categoricos(cat):\n",
    "    \n",
    "    # Calculamos el numero de filas que necesitamos\n",
    "    from math import ceil\n",
    "    filas = ceil(cat.shape[1]/2)\n",
    "\n",
    "    # Definimos el grafico\n",
    "    f, ax = plt.subplots(nrows = filas, ncols = 2, figsize = (16, filas * 6))\n",
    "\n",
    "    # Ajustamos la separación entre las columnas\n",
    "    plt.subplots_adjust(wspace=0.5)  # wspace controla el espaciado horizontal entre subplots\n",
    "\n",
    "    # Aplanamos para iterar por el grafico como si fuera de 1 dimension en lugar de 2\n",
    "    ax = ax.flat\n",
    "\n",
    "    # Creamos el buvle que va añadiendo graficos\n",
    "    for cada, variable in enumerate(cat):\n",
    "        cat[variable].value_counts().plot.barh(ax = ax[cada])\n",
    "        ax[cada].set_title(variable, fontsize = 12, fontweight = 'bold')\n",
    "        ax[cada].tick_params(labelsize = 12)\n",
    "\n",
    "graficos_eda_categoricos(df.select_dtypes('O'))'''"
   ]
  },
  {
   "cell_type": "code",
   "execution_count": 468,
   "metadata": {},
   "outputs": [
    {
     "name": "stdout",
     "output_type": "stream",
     "text": [
      "Valores NaN en las columnas seleccionadas:\n",
      "id                  1\n",
      "age                 1\n",
      "dist_casa           1\n",
      "beca_inscripcion    1\n",
      "beca_colegiatura    1\n",
      "cuatrimestre        1\n",
      "comod_act_esc       1\n",
      "prob_dejar_unid     1\n",
      "dtype: int64\n",
      "Tipo de datos de las columnas después de la conversión:\n",
      "id                       int64\n",
      "email                   object\n",
      "sexo                    object\n",
      "age                      int64\n",
      "dist_casa                int64\n",
      "beca_inscripcion         int64\n",
      "beca_colegiatura         int64\n",
      "carrera                 object\n",
      "cuatrimestre             int64\n",
      "dif_pagar_matricula     object\n",
      "rep_materias_ult        object\n",
      "trabajo_excesv          object\n",
      "gusto_carrera           object\n",
      "problemas_ment_fisc     object\n",
      "dificult_vida_person    object\n",
      "trabaja                 object\n",
      "resp_fam                object\n",
      "apoyo_emocional_cons    object\n",
      "unid_primera_opc        object\n",
      "comod_act_esc            int64\n",
      "satisf_cal_edu          object\n",
      "percep_rec_suf          object\n",
      "percep_int_acad         object\n",
      "penso_dejar_unid        object\n",
      "prob_dejar_unid          int64\n",
      "deserto                 object\n",
      "dtype: object\n",
      "        id                            email    sexo  age  dist_casa  \\\n",
      "0        1          bcapehorn0@cbslocal.com   Mujer   24         19   \n",
      "1        2  mgyorgy1@nationalgeographic.com   Mujer   20         17   \n",
      "2        3               cgawkroge2@163.com   Mujer   25         25   \n",
      "3        4              wjoanaud3@adobe.com   Mujer   23         23   \n",
      "4        5              dbugg4@redcross.org   Mujer   23         16   \n",
      "...    ...                              ...     ...  ...        ...   \n",
      "1496  1497               rclelandkq@msn.com   Mujer   19          5   \n",
      "1497  1498          qwofendenkr@yahoo.co.jp  Hombre   22          6   \n",
      "1498  1499             lmcjuryks@unicef.org   Mujer   21         16   \n",
      "1499  1500     afranklynkt@businessweek.com   Mujer   18          9   \n",
      "1500   750                              NaN     NaN   21         16   \n",
      "\n",
      "      beca_inscripcion  beca_colegiatura         carrera  cuatrimestre   \\\n",
      "0                    0                 0  administracion              4   \n",
      "1                    0                 0  administracion              1   \n",
      "2                    0                 0        dis_graf              2   \n",
      "3                    0                 0        dis_graf              2   \n",
      "4                    0                 0       educacion              6   \n",
      "...                ...               ...             ...            ...   \n",
      "1496                65                20  administracion              5   \n",
      "1497                60                20         derecho              9   \n",
      "1498                60                25        dis_graf              6   \n",
      "1499                60                30  administracion              6   \n",
      "1500                48                20             NaN              4   \n",
      "\n",
      "     dif_pagar_matricula  ... resp_fam apoyo_emocional_cons unid_primera_opc  \\\n",
      "0                     si  ...       si                   si               no   \n",
      "1                     no  ...       si                 insf               no   \n",
      "2                     si  ...       si                   no               no   \n",
      "3                     si  ...       si                   no               no   \n",
      "4                     si  ...       si                 insf               no   \n",
      "...                  ...  ...      ...                  ...              ...   \n",
      "1496                  no  ...       si                   si               si   \n",
      "1497                  no  ...       no                   si               si   \n",
      "1498                  no  ...       no                 insf               no   \n",
      "1499                  no  ...       si                   si               si   \n",
      "1500                  no  ...       no                  NaN               si   \n",
      "\n",
      "     comod_act_esc satisf_cal_edu percep_rec_suf percep_int_acad  \\\n",
      "0                1             no             no              no   \n",
      "1                3             no           insf              si   \n",
      "2                4             no             no              no   \n",
      "3                1           insf             no            insf   \n",
      "4                4           insf             no            insf   \n",
      "...            ...            ...            ...             ...   \n",
      "1496             9             si             si            insf   \n",
      "1497             8             si             si              si   \n",
      "1498             7             si           insf              si   \n",
      "1499             8             si           insf              si   \n",
      "1500             6            NaN             si             NaN   \n",
      "\n",
      "     penso_dejar_unid prob_dejar_unid  deserto  \n",
      "0                  si               9       no  \n",
      "1                  si               8       si  \n",
      "2                  no              10       si  \n",
      "3                  no              10       si  \n",
      "4                  si               9       no  \n",
      "...               ...             ...      ...  \n",
      "1496               no               4       no  \n",
      "1497               no               3       no  \n",
      "1498               no               1       no  \n",
      "1499               no               3       si  \n",
      "1500              NaN               4       no  \n",
      "\n",
      "[1501 rows x 26 columns]\n"
     ]
    }
   ],
   "source": [
    "# Seleccionar solo las columnas que tienen valores flotantes\n",
    "float_cols = df.select_dtypes(include=['float64']).columns\n",
    "\n",
    "# Verificar si hay valores NaN en las columnas seleccionadas\n",
    "print(\"Valores NaN en las columnas seleccionadas:\")\n",
    "print(df[float_cols].isna().sum())\n",
    "\n",
    "# Rellenar los valores NaN en las columnas seleccionadas con la media de cada columna\n",
    "for col in float_cols:\n",
    "    mean_value = df[col].mean()\n",
    "    df[col] = df[col].fillna(mean_value)\n",
    "\n",
    "# Convertir estas columnas a int64\n",
    "df[float_cols] = df[float_cols].astype('int64')\n",
    "\n",
    "# Verificar el tipo de datos de las columnas después de la conversión\n",
    "print(\"Tipo de datos de las columnas después de la conversión:\")\n",
    "print(df.dtypes)\n",
    "\n",
    "# Verificar el resultado\n",
    "print(df)"
   ]
  },
  {
   "cell_type": "code",
   "execution_count": 469,
   "metadata": {},
   "outputs": [
    {
     "name": "stdout",
     "output_type": "stream",
     "text": [
      "<class 'pandas.core.frame.DataFrame'>\n",
      "RangeIndex: 1501 entries, 0 to 1500\n",
      "Data columns (total 26 columns):\n",
      " #   Column                Non-Null Count  Dtype \n",
      "---  ------                --------------  ----- \n",
      " 0   id                    1501 non-null   int64 \n",
      " 1   email                 1500 non-null   object\n",
      " 2   sexo                  1500 non-null   object\n",
      " 3   age                   1501 non-null   int64 \n",
      " 4   dist_casa             1501 non-null   int64 \n",
      " 5   beca_inscripcion      1501 non-null   int64 \n",
      " 6   beca_colegiatura      1501 non-null   int64 \n",
      " 7   carrera               1500 non-null   object\n",
      " 8   cuatrimestre          1501 non-null   int64 \n",
      " 9   dif_pagar_matricula   1501 non-null   object\n",
      " 10  rep_materias_ult      1500 non-null   object\n",
      " 11  trabajo_excesv        1501 non-null   object\n",
      " 12  gusto_carrera         1500 non-null   object\n",
      " 13  problemas_ment_fisc   1500 non-null   object\n",
      " 14  dificult_vida_person  1500 non-null   object\n",
      " 15  trabaja               1501 non-null   object\n",
      " 16  resp_fam              1501 non-null   object\n",
      " 17  apoyo_emocional_cons  1500 non-null   object\n",
      " 18  unid_primera_opc      1501 non-null   object\n",
      " 19  comod_act_esc         1501 non-null   int64 \n",
      " 20  satisf_cal_edu        1500 non-null   object\n",
      " 21  percep_rec_suf        1501 non-null   object\n",
      " 22  percep_int_acad       1500 non-null   object\n",
      " 23  penso_dejar_unid      1500 non-null   object\n",
      " 24  prob_dejar_unid       1501 non-null   int64 \n",
      " 25  deserto               1501 non-null   object\n",
      "dtypes: int64(8), object(18)\n",
      "memory usage: 305.0+ KB\n"
     ]
    }
   ],
   "source": [
    "df.info()"
   ]
  },
  {
   "cell_type": "code",
   "execution_count": 470,
   "metadata": {},
   "outputs": [],
   "source": [
    "# Guardar el DataFrame modificado en un archivo CSV\n",
    "ruta_archivo = 'registros_de_bd.csv'\n",
    "df.to_csv(ruta_archivo, index=False)\n"
   ]
  }
 ],
 "metadata": {
  "kernelspec": {
   "display_name": "base",
   "language": "python",
   "name": "python3"
  },
  "language_info": {
   "codemirror_mode": {
    "name": "ipython",
    "version": 3
   },
   "file_extension": ".py",
   "mimetype": "text/x-python",
   "name": "python",
   "nbconvert_exporter": "python",
   "pygments_lexer": "ipython3",
   "version": "3.11.7"
  }
 },
 "nbformat": 4,
 "nbformat_minor": 2
}
